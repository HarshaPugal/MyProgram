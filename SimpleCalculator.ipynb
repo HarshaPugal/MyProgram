{
 "cells": [
  {
   "cell_type": "code",
   "execution_count": 24,
   "id": "796f7842",
   "metadata": {},
   "outputs": [
    {
     "name": "stdout",
     "output_type": "stream",
     "text": [
      "SIMPLE CALCULATOR\n",
      "1.Addition\n",
      "2.Subtraction\n",
      "3.Multiplication\n",
      "4.Division\n",
      "Enter the choice(1 or 2 or 3 or 4)1\n",
      "Enter first number3\n",
      "Enter second number5\n",
      "num1+num2= 8.0\n"
     ]
    }
   ],
   "source": [
    "print(\"SIMPLE CALCULATOR\")\n",
    "print(\"1.Addition\\n2.Subtraction\\n3.Multiplication\\n4.Division\")\n",
    "choice=int(input(\"Enter the choice(1 or 2 or 3 or 4)\"))\n",
    "num1=float(input(\"Enter first number\"))\n",
    "num2=float(input(\"Enter second number\"))\n",
    "if (choice==1):\n",
    "    a=num1+num2\n",
    "    print(\"num1+num2=\",a)\n",
    "elif(choice==2):\n",
    "    a=num1-num2\n",
    "    print(\"num1-num2=\",a)\n",
    "elif(choice==3):\n",
    "    a=num1*num2\n",
    "    print(\"num1*num2=\",a)\n",
    "elif(choice==4):\n",
    "    a=num1/num2\n",
    "    print(\"num1/num2=\",a)\n",
    "else:\n",
    "    print(\"Invalid input\")\n"
   ]
  }
 ],
 "metadata": {
  "kernelspec": {
   "display_name": "Python 3 (ipykernel)",
   "language": "python",
   "name": "python3"
  },
  "language_info": {
   "codemirror_mode": {
    "name": "ipython",
    "version": 3
   },
   "file_extension": ".py",
   "mimetype": "text/x-python",
   "name": "python",
   "nbconvert_exporter": "python",
   "pygments_lexer": "ipython3",
   "version": "3.9.13"
  }
 },
 "nbformat": 4,
 "nbformat_minor": 5
}
