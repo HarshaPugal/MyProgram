{
 "cells": [
  {
   "cell_type": "code",
   "execution_count": 1,
   "id": "5ae7562f",
   "metadata": {},
   "outputs": [
    {
     "name": "stdout",
     "output_type": "stream",
     "text": [
      "The log levels are: ['CRITICAL', 'ERROR', 'INFO', 'DEBUG']\n",
      "What log level you  want to use?debug\n",
      "you have selected DEBUG for the logging level\n",
      "\n",
      " 2023-08-26 09:44:29,849 start of logging, level chosen: DEBUG\n",
      "2023-08-26 09:44:29,849 some critical msg\n",
      "2023-08-26 09:44:29,849 some error msg\n",
      "2023-08-26 09:44:29,849 some info msg\n",
      "2023-08-26 09:44:29,849 some debug msg\n",
      "2023-08-26 09:44:29,849 end of logging\n",
      "\n"
     ]
    }
   ],
   "source": [
    "\"\"\"\n",
    "Excersise number:16\n",
    "Start date      :26/08/2023\n",
    "End date        :26/08/2023\n",
    "Description     :To create user input logger and reader\n",
    "\"\"\"\n",
    "import logging\n",
    "logLevelArr = [\"CRITICAL\",\"ERROR\",\"INFO\",\"DEBUG\"]\n",
    "print(\"The log levels are: \" +str(logLevelArr))\n",
    "logger = logging.getLogger(__name__)\n",
    "logging.basicConfig(filename=\"Logging.log\",format='%(asctime)s %(message)s',filemode='w')\n",
    "logLevel = input ( \"What log level you  want to use?\")\n",
    "while logLevel.upper() not in logLevelArr:\n",
    "    print(\"You didn't select from the options!\")\n",
    "    print(\"Here are the log levels: \" +str(logLevelArr))\n",
    "    logger.error(\" User selected wrong logging level!\")\n",
    "    logLevel = input( \"What log level you  want to use?\")\n",
    "print(\"you have selected \" +logLevel.upper() +\" for the logging level\")\n",
    "logger.info(\"---> User selected: \"+logLevel+ \" for logging level\")\n",
    "if logLevel.upper() == \"CRITICAL\":\n",
    "    logging.getLogger().setLevel(logging.CRITICAL)\n",
    "if logLevel.upper() == \"ERROR\":\n",
    "    logging.getLogger().setLevel(logging.ERROR)\n",
    "if logLevel.upper() == \"INFO\":\n",
    "    logging.getLogger().setLevel(logging.INFO)\n",
    "if logLevel.upper() == \"DEBUG\":\n",
    "    logging.getLogger().setLevel(logging.DEBUG)\n",
    "logger =logging.getLogger()\n",
    "logger.critical(f\"start of logging, level chosen: {logLevel.upper()}\")\n",
    "logger.critical(\"some critical msg\")\n",
    "logger.error(\"some error msg\")\n",
    "logger.info(\"some info msg\")\n",
    "logger.debug(\"some debug msg\")\n",
    "logger.critical(\"end of logging\")\n",
    "f=open(\"Logging.log\",\"r\")\n",
    "print(\"\\n\",f.read())"
   ]
  },
  {
   "cell_type": "code",
   "execution_count": null,
   "id": "1c60afdd",
   "metadata": {},
   "outputs": [],
   "source": []
  }
 ],
 "metadata": {
  "kernelspec": {
   "display_name": "Python 3 (ipykernel)",
   "language": "python",
   "name": "python3"
  },
  "language_info": {
   "codemirror_mode": {
    "name": "ipython",
    "version": 3
   },
   "file_extension": ".py",
   "mimetype": "text/x-python",
   "name": "python",
   "nbconvert_exporter": "python",
   "pygments_lexer": "ipython3",
   "version": "3.9.13"
  }
 },
 "nbformat": 4,
 "nbformat_minor": 5
}
