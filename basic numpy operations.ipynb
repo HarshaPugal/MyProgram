{
 "cells": [
  {
   "cell_type": "code",
   "execution_count": 13,
   "id": "dbb60c2f",
   "metadata": {},
   "outputs": [
    {
     "name": "stdout",
     "output_type": "stream",
     "text": [
      "The first array is\n",
      " [[2. 5. 6.]\n",
      " [6. 8. 4.]]\n",
      "The second array is\n",
      " [[7. 6. 3.]\n",
      " [3. 7. 4.]]\n",
      "Addition of two arrays\n",
      "[[ 9. 11.  9.]\n",
      " [ 9. 15.  8.]]\n",
      "Subtraction of two arrays\n",
      "[[-5. -1.  3.]\n",
      " [ 3.  1.  0.]]\n",
      "Multiplication of two arrays\n",
      "[[14. 30. 18.]\n",
      " [18. 56. 16.]]\n",
      "Division of two arrays\n",
      "[[0.28571429 0.83333333 2.        ]\n",
      " [2.         1.14285714 1.        ]]\n",
      "The reciprocal of an array is\n",
      "[[0.5        0.2        0.16666667]\n",
      " [0.16666667 0.125      0.25      ]]\n",
      "Squaring the elements of an array\n",
      "[[ 4. 25. 36.]\n",
      " [36. 64. 16.]]\n",
      "Getting the remainder of two arrays\n",
      "[[2. 5. 0.]\n",
      " [0. 1. 0.]]\n"
     ]
    }
   ],
   "source": [
    "\"\"\"\n",
    "Excersie number:11\n",
    "Start date     :20/08/2023\n",
    "End date       :20/08/2023\n",
    "Description    :To perform basic numpy operations\n",
    "\"\"\"\n",
    "import numpy as np\n",
    "array1=np.array([[2,5,6],[6,8,4]],dtype=float)\n",
    "array2=np.array([[7,6,3],[3,7,4]],dtype=float)\n",
    "Add_array=np.add(array1,array2)\n",
    "Sub_array=np.subtract(array1,array2)\n",
    "Mul_array=np.multiply(array1,array2)\n",
    "Div_array=np.divide(array1,array2)\n",
    "print(\"The first array is\\n\",array1)\n",
    "print(\"The second array is\\n\",array2)\n",
    "print(\"Addition of two arrays\")\n",
    "print(Add_array)\n",
    "print(\"Subtraction of two arrays\")\n",
    "print(Sub_array)\n",
    "print(\"Multiplication of two arrays\")\n",
    "print(Mul_array)\n",
    "print(\"Division of two arrays\")\n",
    "print(Div_array)\n",
    "print(\"The reciprocal of an array is\")\n",
    "print(np.reciprocal(array1))\n",
    "print(\"Squaring the elements of an array\")\n",
    "print(np.power(array1,2))\n",
    "print(\"Getting the remainder of two arrays\")\n",
    "print(np.mod(array1,array2))"
   ]
  },
  {
   "cell_type": "code",
   "execution_count": null,
   "id": "4224262c",
   "metadata": {},
   "outputs": [],
   "source": []
  }
 ],
 "metadata": {
  "kernelspec": {
   "display_name": "Python 3 (ipykernel)",
   "language": "python",
   "name": "python3"
  },
  "language_info": {
   "codemirror_mode": {
    "name": "ipython",
    "version": 3
   },
   "file_extension": ".py",
   "mimetype": "text/x-python",
   "name": "python",
   "nbconvert_exporter": "python",
   "pygments_lexer": "ipython3",
   "version": "3.9.13"
  }
 },
 "nbformat": 4,
 "nbformat_minor": 5
}
