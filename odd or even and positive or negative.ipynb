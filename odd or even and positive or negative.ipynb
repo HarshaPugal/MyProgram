{
 "cells": [
  {
   "cell_type": "code",
   "execution_count": 9,
   "id": "38a31f8b",
   "metadata": {},
   "outputs": [
    {
     "name": "stdout",
     "output_type": "stream",
     "text": [
      "Enter a number 17\n",
      "The given number is Positive and Odd\n"
     ]
    }
   ],
   "source": [
    "\"\"\"\n",
    "Experiment number:03\n",
    "Start date       :14/08/2023\n",
    "End date         :14/08/2023\n",
    "Description      :To demonstrate if statement and to categorize a number as even or odd \n",
    "                  and positive or negative using conditional statements\n",
    "\"\"\"\n",
    "number=int(input(\"Enter a number\"))\n",
    "#Check whether the given number is zero\n",
    "if(number==0):\n",
    "    print(\"The given number is Zero and Even\")\n",
    "#Check whether the given number is less than zero if it is then it is negative\n",
    "elif(number<0):\n",
    "    #check whether the negative number number is even\n",
    "    if(number%2==0):\n",
    "        print(\"The given number is Negative and Even\")\n",
    "    else:\n",
    "        print(\"The given number is Negative and Odd\")\n",
    "#If the given number is not both zero and negative then it has to be positve\n",
    "else:\n",
    "    #Check whether the positive number is odd or even \n",
    "    if(number%2==0):\n",
    "        print(\"The given number is Positive and Even\")\n",
    "    else:\n",
    "        print(\"The given number is Positive and Odd\")"
   ]
  },
  {
   "cell_type": "code",
   "execution_count": null,
   "id": "0a308df1",
   "metadata": {},
   "outputs": [],
   "source": []
  }
 ],
 "metadata": {
  "kernelspec": {
   "display_name": "Python 3 (ipykernel)",
   "language": "python",
   "name": "python3"
  },
  "language_info": {
   "codemirror_mode": {
    "name": "ipython",
    "version": 3
   },
   "file_extension": ".py",
   "mimetype": "text/x-python",
   "name": "python",
   "nbconvert_exporter": "python",
   "pygments_lexer": "ipython3",
   "version": "3.9.13"
  }
 },
 "nbformat": 4,
 "nbformat_minor": 5
}
