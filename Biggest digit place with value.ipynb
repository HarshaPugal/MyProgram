{
 "cells": [
  {
   "cell_type": "code",
   "execution_count": 14,
   "id": "c909d07b",
   "metadata": {},
   "outputs": [
    {
     "name": "stdout",
     "output_type": "stream",
     "text": [
      "Enter a number3594591\n",
      "The  10000  place  9  is the largest\n"
     ]
    }
   ],
   "source": [
    "\"\"\"\n",
    "Exercise number:06\n",
    "Start date     :14/08/2023\n",
    "End date       :14/08/2023\n",
    "Description    :To find the biggest value's place in the given number using loop\n",
    "\"\"\"\n",
    "number=int(input(\"Enter a number\"))\n",
    "digit=0  #To fetch individual digits\n",
    "pos=0    #To iterate through each position\n",
    "big=0    #Initialize the first value as big\n",
    "while(number>0):\n",
    "    digit=number%10\n",
    "    if(big<digit):\n",
    "        big=int(digit)   #The latest big is found\n",
    "        lpos=pos      #Find the latest position of the biggest\n",
    "    pos=pos+1\n",
    "    number=number/10   #To remove each digit from the tail\n",
    "result=pow(10,lpos)     #To find the exact place like unit,tens,hundreds\n",
    "print(\"The \",  result ,\" place \", big ,\" is the largest\")\n",
    "\n"
   ]
  },
  {
   "cell_type": "code",
   "execution_count": null,
   "id": "767c2aaf",
   "metadata": {},
   "outputs": [],
   "source": []
  },
  {
   "cell_type": "code",
   "execution_count": null,
   "id": "c9a8a801",
   "metadata": {},
   "outputs": [],
   "source": []
  }
 ],
 "metadata": {
  "kernelspec": {
   "display_name": "Python 3 (ipykernel)",
   "language": "python",
   "name": "python3"
  },
  "language_info": {
   "codemirror_mode": {
    "name": "ipython",
    "version": 3
   },
   "file_extension": ".py",
   "mimetype": "text/x-python",
   "name": "python",
   "nbconvert_exporter": "python",
   "pygments_lexer": "ipython3",
   "version": "3.9.13"
  }
 },
 "nbformat": 4,
 "nbformat_minor": 5
}
