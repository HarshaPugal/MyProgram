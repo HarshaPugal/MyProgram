{
 "cells": [
  {
   "cell_type": "code",
   "execution_count": 4,
   "id": "4414b6f6",
   "metadata": {},
   "outputs": [
    {
     "name": "stdout",
     "output_type": "stream",
     "text": [
      "Enter a number5\n",
      "The Fibonacci series are...\n",
      "0\n",
      "1\n",
      "1\n",
      "2\n",
      "3\n"
     ]
    }
   ],
   "source": [
    "\"\"\"\n",
    "Experiment number:05\n",
    "Start date       :14/08/2023\n",
    "End date         :14/08/2023\n",
    "Description      :To generate fibonacci series using for loop\n",
    "\"\"\"\n",
    "number=int(input(\"Enter a number\"))\n",
    "#Initializing the first and second number as 0 and 1 respectively in the fibonacci series\n",
    "f1=0\n",
    "f2=1\n",
    "print(\"The Fibonacci series are...\")\n",
    "print(f1)\n",
    "print(f2)\n",
    "for i in range(0,number-2,1):\n",
    "    #Generating the third number in the series by adding the first two numbers\n",
    "    f3=f1+f2\n",
    "    print(f3)\n",
    "    \"\"\"\n",
    "    Consider the 2nd and 3rd number in the series as 1st and 2nd number and \n",
    "    repeat the process until the loop exits\n",
    "    \"\"\"\n",
    "    f1=f2 \n",
    "    f2=f3\n"
   ]
  },
  {
   "cell_type": "code",
   "execution_count": null,
   "id": "cddeedbf",
   "metadata": {},
   "outputs": [],
   "source": []
  }
 ],
 "metadata": {
  "kernelspec": {
   "display_name": "Python 3 (ipykernel)",
   "language": "python",
   "name": "python3"
  },
  "language_info": {
   "codemirror_mode": {
    "name": "ipython",
    "version": 3
   },
   "file_extension": ".py",
   "mimetype": "text/x-python",
   "name": "python",
   "nbconvert_exporter": "python",
   "pygments_lexer": "ipython3",
   "version": "3.9.13"
  }
 },
 "nbformat": 4,
 "nbformat_minor": 5
}
