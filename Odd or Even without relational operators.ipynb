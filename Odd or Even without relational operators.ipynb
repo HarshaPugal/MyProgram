{
 "cells": [
  {
   "cell_type": "code",
   "execution_count": 1,
   "id": "0b2a93b2",
   "metadata": {},
   "outputs": [
    {
     "name": "stdout",
     "output_type": "stream",
     "text": [
      "Enter a number 20\n",
      "Even\n"
     ]
    }
   ],
   "source": [
    "\"\"\"\n",
    "Descrition:To demonstrate if else without using relational operators\n",
    "\"\"\"\n",
    "n=int(input(\"Enter a number\"))\n",
    "a=n%2\n",
    "if(a):\n",
    "    print(\"Odd\")\n",
    "else:\n",
    "    print(\"Even\")"
   ]
  },
  {
   "cell_type": "code",
   "execution_count": null,
   "id": "f68d2ca8",
   "metadata": {},
   "outputs": [],
   "source": []
  }
 ],
 "metadata": {
  "kernelspec": {
   "display_name": "Python 3 (ipykernel)",
   "language": "python",
   "name": "python3"
  },
  "language_info": {
   "codemirror_mode": {
    "name": "ipython",
    "version": 3
   },
   "file_extension": ".py",
   "mimetype": "text/x-python",
   "name": "python",
   "nbconvert_exporter": "python",
   "pygments_lexer": "ipython3",
   "version": "3.9.13"
  }
 },
 "nbformat": 4,
 "nbformat_minor": 5
}
