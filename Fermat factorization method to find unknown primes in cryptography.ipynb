{
 "cells": [
  {
   "cell_type": "code",
   "execution_count": 13,
   "id": "454ec365",
   "metadata": {},
   "outputs": [
    {
     "name": "stdout",
     "output_type": "stream",
     "text": [
      "Enter a number 119143\n",
      "Prime1= 283\n",
      "Prime2= 421\n"
     ]
    }
   ],
   "source": [
    "\"\"\"\n",
    "Excersise number:13 \n",
    "Start date      :20/08/2023\n",
    "End date        :20/08/2023\n",
    "Description     :To find the unknown two primes using fermat factorization method.\n",
    "                 Fermat factorization can be used to factor a number which is a multiple\n",
    "                 of prime number i.e. n=p*q where p and q are prime.\n",
    "                 For an integer n, we want a and b such as: n = a2 - b2 = (a+b)(a-b) \n",
    "                 where (a+b) and (a-b) are the factors of the number n.\n",
    "                 Here (a+b) and (a-b) are the two prime numbers.\n",
    "\"\"\"\n",
    "import math\n",
    "num=int(input(\"Enter a number \"))\n",
    "nearest_square=math.ceil(math.sqrt(num))  #Taking the nearest root of the number\n",
    "\n",
    "while(nearest_square<num):\n",
    "    perfect_square=((nearest_square)*(nearest_square))-num   \n",
    "    d=int(math.sqrt(perfect_square))\n",
    "    Unknown_prime1=(nearest_square-d)\n",
    "    Unknown_prime2=(nearest_square+d)\n",
    "    prime_product=( Unknown_prime1*Unknown_prime2)\n",
    "    \n",
    "    if(prime_product==num):\n",
    "        print(\"Prime1=\",Unknown_prime1)\n",
    "        print(\"Prime2=\",Unknown_prime2)\n",
    "        break\n",
    "        nearest_square=nearest_square+1\n",
    "    \n",
    "    else:\n",
    "        nearest_square=nearest_square+1\n",
    "        \n"
   ]
  },
  {
   "cell_type": "code",
   "execution_count": null,
   "id": "56f1635e",
   "metadata": {},
   "outputs": [],
   "source": []
  }
 ],
 "metadata": {
  "kernelspec": {
   "display_name": "Python 3 (ipykernel)",
   "language": "python",
   "name": "python3"
  },
  "language_info": {
   "codemirror_mode": {
    "name": "ipython",
    "version": 3
   },
   "file_extension": ".py",
   "mimetype": "text/x-python",
   "name": "python",
   "nbconvert_exporter": "python",
   "pygments_lexer": "ipython3",
   "version": "3.9.13"
  }
 },
 "nbformat": 4,
 "nbformat_minor": 5
}
