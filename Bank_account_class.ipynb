{
 "cells": [
  {
   "cell_type": "code",
   "execution_count": 1,
   "id": "39a223dc",
   "metadata": {},
   "outputs": [
    {
     "name": "stdout",
     "output_type": "stream",
     "text": [
      "If you want to deposit the amount PRESS 1\n",
      "If you want to withdraw the amount PRESS 2\n",
      "If you want to terminate the transaction PRESS 3\n",
      " 1\n",
      "Enter the amount to be deposited 10000\n",
      "Account number is 7856359735\n",
      "Amount deposited is 10000.0\n",
      "Balance is 10000.0 \n",
      "\n",
      "If you want to deposit the amount PRESS 1\n",
      "If you want to withdraw the amount PRESS 2\n",
      "If you want to terminate the transaction PRESS 3\n",
      " 2\n",
      "\n",
      "Enter the amount to be withdrew4600\n",
      "Account number is 7856359735\n",
      "Rs 4600.0 is withdrawn from your bank account\n",
      "Balance amount is 5400.0 \n",
      "\n",
      "If you want to deposit the amount PRESS 1\n",
      "If you want to withdraw the amount PRESS 2\n",
      "If you want to terminate the transaction PRESS 3\n",
      " 3\n"
     ]
    }
   ],
   "source": [
    "\"\"\"\n",
    "Excersise number:14\n",
    "Start date      :22/08/2023\n",
    "End date        :22/08/2023\n",
    "Description     :To create a bank account class\n",
    "\"\"\"\n",
    "class Bank_account():\n",
    "    choice=0\n",
    "    def __init__(self):\n",
    "        self.__account_number=7856359735\n",
    "        self._balance=0    \n",
    "    def Deposit(self):\n",
    "            money=float(input(\"Enter the amount to be deposited \"))\n",
    "            self._balance=self._balance+money\n",
    "            print(\"Account number is\",self.__account_number)\n",
    "            print(\"Amount deposited is\",money)\n",
    "            print(\"Balance is\",self._balance,\"\\n\")\n",
    "    def Withdraw(self):\n",
    "        money=float(input(\"\\nEnter the amount to be withdrew\"))\n",
    "        if(self._balance>money):\n",
    "            self._balance-=money\n",
    "            print(\"Account number is\",self.__account_number)\n",
    "            print(\"Rs\",money,\"is withdrawn from your bank account\")\n",
    "            print(\"Balance amount is\",self._balance,\"\\n\")\n",
    "        else:\n",
    "            print(\"There is no enogh money in your account\")\n",
    "            print(\"Balance amount is\",self._balance,\"\\n\")\n",
    "b=Bank_account()\n",
    "while(True):\n",
    "    print(\"If you want to deposit the amount PRESS 1\")\n",
    "    print(\"If you want to withdraw the amount PRESS 2\")\n",
    "    print(\"If you want to terminate the transaction PRESS 3\")\n",
    "    b.choice=int(input(\" \"))\n",
    "    if(b.choice==1):\n",
    "        b.Deposit()\n",
    "    elif(b.choice==2):\n",
    "        b.Withdraw()\n",
    "    else:\n",
    "        break\n"
   ]
  },
  {
   "cell_type": "code",
   "execution_count": null,
   "id": "d1374b24",
   "metadata": {},
   "outputs": [],
   "source": []
  }
 ],
 "metadata": {
  "kernelspec": {
   "display_name": "Python 3 (ipykernel)",
   "language": "python",
   "name": "python3"
  },
  "language_info": {
   "codemirror_mode": {
    "name": "ipython",
    "version": 3
   },
   "file_extension": ".py",
   "mimetype": "text/x-python",
   "name": "python",
   "nbconvert_exporter": "python",
   "pygments_lexer": "ipython3",
   "version": "3.9.13"
  }
 },
 "nbformat": 4,
 "nbformat_minor": 5
}
