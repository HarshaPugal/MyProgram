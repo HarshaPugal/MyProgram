{
 "cells": [
  {
   "cell_type": "code",
   "execution_count": 1,
   "id": "f37d8cf3",
   "metadata": {
    "scrolled": true
   },
   "outputs": [
    {
     "name": "stdout",
     "output_type": "stream",
     "text": [
      "AREA OF SHAPES\n",
      "\n",
      "\n",
      "1.Circle\n",
      "2.Triangle\n",
      "3.Square\n",
      "4.Rectangle\n",
      "5.Parallelogram\n",
      "6.Exit\n",
      "\n",
      "(1 or 2 or 3 or 4 or 5 or 6) 2\n",
      "Enter the breadth of the triangle 5\n",
      "Enter the height of the triangle 8\n",
      "Area of triangle is  20.0\n"
     ]
    }
   ],
   "source": [
    "\"\"\"\n",
    "Experiment number:08\n",
    "Start date       :16/08/2023\n",
    "End date         :16/08/2023\n",
    "Description      :To find the area of shapes using functions\n",
    "\"\"\"\n",
    "def Circle(r):\n",
    "    pi=3.14\n",
    "    area=pi*r*r\n",
    "    print(\"Area of circle is \",area)\n",
    "def Triangle(b,h):\n",
    "    area=0.5*b*h\n",
    "    print(\"Area of triangle is \",area)\n",
    "def Square(a):\n",
    "    area=a*a\n",
    "    print(\"Area of square is \",area)\n",
    "def Rectangle(l,w):\n",
    "    area=l*w\n",
    "    print(\"Area of rectangle is \",area)\n",
    "def Parallelogram(b,h):\n",
    "    area=b*h\n",
    "    print(\"Area of parallelogram is \",area)\n",
    "print(\"AREA OF SHAPES\\n\\n\")\n",
    "print(\"1.Circle\\n2.Triangle\\n3.Square\\n4.Rectangle\\n5.Parallelogram\\n6.Exit\\n\")\n",
    "choice=int(input(\"(1 or 2 or 3 or 4 or 5 or 6) \"))\n",
    "if(choice==1):\n",
    "    r=float(input(\"Enter radius of the circle \"))\n",
    "    Circle(r)\n",
    "elif(choice==2):\n",
    "    b=float(input(\"Enter the breadth of the triangle \"))\n",
    "    h=float(input(\"Enter the height of the triangle \"))\n",
    "    Triangle(b,h)\n",
    "elif(choice==3):\n",
    "    a=float(input(\"Enter the side of the square \"))\n",
    "    Square(a)\n",
    "elif(choice==4):\n",
    "    l=float(input(\"Enter the length of the rectangle \"))\n",
    "    w=float(input(\"Enter the width of the rectangle \"))\n",
    "    Rectangle(l,w)\n",
    "elif(choice==5):\n",
    "    b=float(input(\"Enter the breadth of the parallelogram \"))\n",
    "    h=float(input(\"Enter the height of the parallelogram \"))\n",
    "    Parallelogram(b,h)\n",
    "\n",
    "elif(choice==6):\n",
    "    exit(0)"
   ]
  }
 ],
 "metadata": {
  "kernelspec": {
   "display_name": "Python 3 (ipykernel)",
   "language": "python",
   "name": "python3"
  },
  "language_info": {
   "codemirror_mode": {
    "name": "ipython",
    "version": 3
   },
   "file_extension": ".py",
   "mimetype": "text/x-python",
   "name": "python",
   "nbconvert_exporter": "python",
   "pygments_lexer": "ipython3",
   "version": "3.9.13"
  }
 },
 "nbformat": 4,
 "nbformat_minor": 5
}
