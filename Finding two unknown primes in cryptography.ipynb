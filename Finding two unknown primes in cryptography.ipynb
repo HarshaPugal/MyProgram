{
 "cells": [
  {
   "cell_type": "code",
   "execution_count": null,
   "id": "b7c1af21",
   "metadata": {
    "scrolled": true
   },
   "outputs": [
    {
     "name": "stdout",
     "output_type": "stream",
     "text": [
      "Enter a number 119143\n",
      "283 421\n",
      "421 283\n"
     ]
    }
   ],
   "source": [
    "\"\"\"\n",
    "Excersise number:12\n",
    "Start date      :20/08/2023\n",
    "End date        :20/08/2023\n",
    "Description     :In RSA algorithm P and Q are prime numbers whose product P*Q=N\n",
    "                 Here P and Q are unknown and only the value of N is known using\n",
    "                 this N we should find the value of the unknown primes P and Q.\n",
    "                 The drawback in this program is speed and the code is not optimized.\n",
    "                 To overcome this problem a solution is provided in the next Excersise.\n",
    "\"\"\"\n",
    "def Prime_or_not(num):\n",
    "    count=0\n",
    "    for i in range(num):\n",
    "        for j in range(num):\n",
    "            if(i*j==num):\n",
    "                count=count+1\n",
    "    if(count==0):\n",
    "        return 1\n",
    "n=int(input(\"Enter a number \"))\n",
    "for i in range(n):\n",
    "    for j in range(n):\n",
    "        if(i*j==n):\n",
    "            if(Prime_or_not(i)):\n",
    "                if(Prime_or_not(j)):\n",
    "                    print(i,j)\n",
    "            else:\n",
    "                print(\"x and y are not prime\")"
   ]
  },
  {
   "cell_type": "code",
   "execution_count": null,
   "id": "4cc1d90f",
   "metadata": {},
   "outputs": [],
   "source": []
  }
 ],
 "metadata": {
  "kernelspec": {
   "display_name": "Python 3 (ipykernel)",
   "language": "python",
   "name": "python3"
  },
  "language_info": {
   "codemirror_mode": {
    "name": "ipython",
    "version": 3
   },
   "file_extension": ".py",
   "mimetype": "text/x-python",
   "name": "python",
   "nbconvert_exporter": "python",
   "pygments_lexer": "ipython3",
   "version": "3.9.13"
  }
 },
 "nbformat": 4,
 "nbformat_minor": 5
}
