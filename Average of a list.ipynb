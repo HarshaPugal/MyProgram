{
 "cells": [
  {
   "cell_type": "code",
   "execution_count": null,
   "id": "a27e5817",
   "metadata": {},
   "outputs": [
    {
     "name": "stdout",
     "output_type": "stream",
     "text": [
      "Enter number elements in the list 5\n",
      "4\n"
     ]
    }
   ],
   "source": [
    "\"\"\"\n",
    "Experiment number:07\n",
    "Start date       :16/08/2023\n",
    "End date         :16/08/2023\n",
    "Description      :To find the average of a list using function\n",
    "\"\"\"\n",
    "#defining the function to calculte the average of a list\n",
    "def Average_of_a_list(n,list):\n",
    "    k=0\n",
    "    for i in range(n):    #adding the elements in the list\n",
    "        k=k+list[i]\n",
    "    #The formula for calculating the Average is (Sum of the list)/(Total number of elements in the list)\n",
    "    Average=k/n \n",
    "    print(\"Average of the given list is\",Average)\n",
    "n=int(input(\"Enter number elements in the list\"))\n",
    "list=[]\n",
    "#Getting the input list from the user\n",
    "for i in range(n):\n",
    "    a=int(input())\n",
    "    list.append(a)\n",
    "Average_of_a_list(n,list)     #Function calling"
   ]
  },
  {
   "cell_type": "code",
   "execution_count": null,
   "id": "5bf87a72",
   "metadata": {},
   "outputs": [],
   "source": []
  }
 ],
 "metadata": {
  "kernelspec": {
   "display_name": "Python 3 (ipykernel)",
   "language": "python",
   "name": "python3"
  },
  "language_info": {
   "codemirror_mode": {
    "name": "ipython",
    "version": 3
   },
   "file_extension": ".py",
   "mimetype": "text/x-python",
   "name": "python",
   "nbconvert_exporter": "python",
   "pygments_lexer": "ipython3",
   "version": "3.9.13"
  }
 },
 "nbformat": 4,
 "nbformat_minor": 5
}
